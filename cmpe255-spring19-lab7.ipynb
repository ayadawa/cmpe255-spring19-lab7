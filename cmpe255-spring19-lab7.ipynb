{
 "cells": [
  {
   "cell_type": "code",
   "execution_count": 25,
   "metadata": {},
   "outputs": [],
   "source": [
    "import numpy as np\n",
    "import matplotlib.pyplot as plt\n",
    "import pandas as pd\n",
    "\n",
    "# download data set: https://drive.google.com/file/d/13nw-uRXPY8XIZQxKRNZ3yYlho-CYm_Qt/view\n",
    "# info: https://archive.ics.uci.edu/ml/datasets/banknote+authentication\n",
    "\n",
    "# load data\n",
    "bankdata = pd.read_csv(\"/Users/archana/Desktop/cmpe255-spring19-lab7/bill_authentication.csv\")"
   ]
  },
  {
   "cell_type": "code",
   "execution_count": 26,
   "metadata": {},
   "outputs": [
    {
     "data": {
      "text/plain": [
       "(1372, 5)"
      ]
     },
     "execution_count": 26,
     "metadata": {},
     "output_type": "execute_result"
    }
   ],
   "source": [
    "# see the data\n",
    "bankdata.shape"
   ]
  },
  {
   "cell_type": "code",
   "execution_count": 27,
   "metadata": {},
   "outputs": [
    {
     "data": {
      "text/html": [
       "<div>\n",
       "<style scoped>\n",
       "    .dataframe tbody tr th:only-of-type {\n",
       "        vertical-align: middle;\n",
       "    }\n",
       "\n",
       "    .dataframe tbody tr th {\n",
       "        vertical-align: top;\n",
       "    }\n",
       "\n",
       "    .dataframe thead th {\n",
       "        text-align: right;\n",
       "    }\n",
       "</style>\n",
       "<table border=\"1\" class=\"dataframe\">\n",
       "  <thead>\n",
       "    <tr style=\"text-align: right;\">\n",
       "      <th></th>\n",
       "      <th>Variance</th>\n",
       "      <th>Skewness</th>\n",
       "      <th>Curtosis</th>\n",
       "      <th>Entropy</th>\n",
       "      <th>Class</th>\n",
       "    </tr>\n",
       "  </thead>\n",
       "  <tbody>\n",
       "    <tr>\n",
       "      <th>0</th>\n",
       "      <td>3.62160</td>\n",
       "      <td>8.6661</td>\n",
       "      <td>-2.8073</td>\n",
       "      <td>-0.44699</td>\n",
       "      <td>0</td>\n",
       "    </tr>\n",
       "    <tr>\n",
       "      <th>1</th>\n",
       "      <td>4.54590</td>\n",
       "      <td>8.1674</td>\n",
       "      <td>-2.4586</td>\n",
       "      <td>-1.46210</td>\n",
       "      <td>0</td>\n",
       "    </tr>\n",
       "    <tr>\n",
       "      <th>2</th>\n",
       "      <td>3.86600</td>\n",
       "      <td>-2.6383</td>\n",
       "      <td>1.9242</td>\n",
       "      <td>0.10645</td>\n",
       "      <td>0</td>\n",
       "    </tr>\n",
       "    <tr>\n",
       "      <th>3</th>\n",
       "      <td>3.45660</td>\n",
       "      <td>9.5228</td>\n",
       "      <td>-4.0112</td>\n",
       "      <td>-3.59440</td>\n",
       "      <td>0</td>\n",
       "    </tr>\n",
       "    <tr>\n",
       "      <th>4</th>\n",
       "      <td>0.32924</td>\n",
       "      <td>-4.4552</td>\n",
       "      <td>4.5718</td>\n",
       "      <td>-0.98880</td>\n",
       "      <td>0</td>\n",
       "    </tr>\n",
       "  </tbody>\n",
       "</table>\n",
       "</div>"
      ],
      "text/plain": [
       "   Variance  Skewness  Curtosis  Entropy  Class\n",
       "0   3.62160    8.6661   -2.8073 -0.44699      0\n",
       "1   4.54590    8.1674   -2.4586 -1.46210      0\n",
       "2   3.86600   -2.6383    1.9242  0.10645      0\n",
       "3   3.45660    9.5228   -4.0112 -3.59440      0\n",
       "4   0.32924   -4.4552    4.5718 -0.98880      0"
      ]
     },
     "execution_count": 27,
     "metadata": {},
     "output_type": "execute_result"
    }
   ],
   "source": [
    "\n",
    "# see head\n",
    "bankdata.head()"
   ]
  },
  {
   "cell_type": "code",
   "execution_count": 28,
   "metadata": {},
   "outputs": [],
   "source": [
    "\n",
    "# data processing\n",
    "X = bankdata.drop('Class', axis=1)  \n",
    "y = bankdata['Class']"
   ]
  },
  {
   "cell_type": "code",
   "execution_count": 29,
   "metadata": {},
   "outputs": [],
   "source": [
    "from sklearn.model_selection import train_test_split  \n",
    "X_train, X_test, y_train, y_test = train_test_split(X, y, test_size = 0.20)"
   ]
  },
  {
   "cell_type": "code",
   "execution_count": 30,
   "metadata": {},
   "outputs": [
    {
     "data": {
      "text/plain": [
       "SVC(C=1.0, cache_size=200, class_weight=None, coef0=0.0,\n",
       "  decision_function_shape='ovr', degree=3, gamma='auto_deprecated',\n",
       "  kernel='linear', max_iter=-1, probability=False, random_state=None,\n",
       "  shrinking=True, tol=0.001, verbose=False)"
      ]
     },
     "execution_count": 30,
     "metadata": {},
     "output_type": "execute_result"
    }
   ],
   "source": [
    "# train the SVM\n",
    "from sklearn.svm import SVC  \n",
    "svclassifier = SVC(kernel='linear')  \n",
    "svclassifier.fit(X_train, y_train)\n"
   ]
  },
  {
   "cell_type": "code",
   "execution_count": 31,
   "metadata": {},
   "outputs": [],
   "source": [
    "# predictions\n",
    "y_pred = svclassifier.predict(X_test)"
   ]
  },
  {
   "cell_type": "code",
   "execution_count": 32,
   "metadata": {},
   "outputs": [
    {
     "name": "stdout",
     "output_type": "stream",
     "text": [
      "Confusion Matrix of Linear Kernel\n",
      "[[145   2]\n",
      " [  1 127]]\n",
      "Classification Report of Linear Kernel\n",
      "              precision    recall  f1-score   support\n",
      "\n",
      "           0       0.99      0.99      0.99       147\n",
      "           1       0.98      0.99      0.99       128\n",
      "\n",
      "   micro avg       0.99      0.99      0.99       275\n",
      "   macro avg       0.99      0.99      0.99       275\n",
      "weighted avg       0.99      0.99      0.99       275\n",
      "\n"
     ]
    }
   ],
   "source": [
    "\n",
    "# Evaluate model\n",
    "from sklearn.metrics import classification_report, confusion_matrix  \n",
    "print('Confusion Matrix of Linear Kernel')\n",
    "print(confusion_matrix(y_test,y_pred))\n",
    "print('Classification Report of Linear Kernel')\n",
    "print(classification_report(y_test,y_pred))"
   ]
  },
  {
   "cell_type": "code",
   "execution_count": 33,
   "metadata": {},
   "outputs": [],
   "source": [
    "def import_iris():\n",
    "    url = \"https://archive.ics.uci.edu/ml/machine-learning-databases/iris/iris.data\"\n",
    "\n",
    "    # Assign colum names to the dataset\n",
    "    colnames = ['sepal-length', 'sepal-width', 'petal-length', 'petal-width', 'Class']\n",
    "\n",
    "    # Read dataset to pandas dataframe\n",
    "    irisdata = pd.read_csv(url, names=colnames) \n",
    "\n",
    "    # process\n",
    "    X = irisdata.drop('Class', axis=1)  \n",
    "    y = irisdata['Class']  \n",
    "\n",
    "    # train\n",
    "    from sklearn.model_selection import train_test_split  \n",
    "    X_train, X_test, y_train, y_test = train_test_split(X, y, test_size = 0.20)\n",
    "   "
   ]
  },
  {
   "cell_type": "code",
   "execution_count": 34,
   "metadata": {},
   "outputs": [],
   "source": [
    "def polynomial_kernel():\n",
    "    # TODO\n",
    "    # NOTE: use 8-degree in the degree hyperparameter. \n",
    "    # Trains, predicts and evaluates the model\n",
    "    from sklearn.svm import SVC \n",
    "    svclassifier = SVC(kernel='poly', degree=8)  \n",
    "    svclassifier.fit(X_train, y_train) \n",
    "    # predictions\n",
    "    y_pred = svclassifier.predict(X_test) \n",
    "    # Evaluate model\n",
    "    from sklearn.metrics import classification_report, confusion_matrix  \n",
    "    print('Confusion Matrix of Polynomial Kernel')\n",
    "    print(confusion_matrix(y_test,y_pred))\n",
    "    print('Classification Report of Polynomial Kernel')\n",
    "    print(classification_report(y_test,y_pred))"
   ]
  },
  {
   "cell_type": "code",
   "execution_count": 35,
   "metadata": {},
   "outputs": [],
   "source": [
    "def gaussian_kernel():\n",
    "    # TODO\n",
    "    # Trains, predicts and evaluates the model\n",
    "    from sklearn.svm import SVC \n",
    "    svclassifier = SVC(kernel='rbf')  \n",
    "    svclassifier.fit(X_train, y_train) \n",
    "    # predictions\n",
    "    y_pred = svclassifier.predict(X_test) \n",
    "    # Evaluate model\n",
    "    from sklearn.metrics import classification_report, confusion_matrix  \n",
    "    print('Confusion Matrix of Gaussian Kernel')\n",
    "    print(confusion_matrix(y_test,y_pred))\n",
    "    print('Classification Report of Gaussian Kernel')\n",
    "    print(classification_report(y_test,y_pred))"
   ]
  },
  {
   "cell_type": "code",
   "execution_count": 36,
   "metadata": {},
   "outputs": [],
   "source": [
    "\n",
    "def sigmoid_kernel():\n",
    "    # TODO\n",
    "    # Trains, predicts and evaluates the model\n",
    "    from sklearn.svm import SVC \n",
    "    svclassifier = SVC(kernel='sigmoid')  \n",
    "    svclassifier.fit(X_train, y_train) \n",
    "    # predictions\n",
    "    y_pred = svclassifier.predict(X_test) \n",
    "    # Evaluate model\n",
    "    from sklearn.metrics import classification_report, confusion_matrix  \n",
    "    print('Confusion Matrix of Sigmoid Kernel')\n",
    "    print(confusion_matrix(y_test,y_pred))\n",
    "    print('Classification Report of Sigmoid Kernel')\n",
    "    print(classification_report(y_test,y_pred))"
   ]
  },
  {
   "cell_type": "code",
   "execution_count": 37,
   "metadata": {},
   "outputs": [],
   "source": [
    "def test():\n",
    "    import_iris()\n",
    "    polynomial_kernel()\n",
    "    gaussian_kernel()\n",
    "    sigmoid_kernel()"
   ]
  },
  {
   "cell_type": "code",
   "execution_count": 38,
   "metadata": {},
   "outputs": [
    {
     "name": "stderr",
     "output_type": "stream",
     "text": [
      "/Users/archana/anaconda3/lib/python3.7/site-packages/sklearn/svm/base.py:196: FutureWarning: The default value of gamma will change from 'auto' to 'scale' in version 0.22 to account better for unscaled features. Set gamma explicitly to 'auto' or 'scale' to avoid this warning.\n",
      "  \"avoid this warning.\", FutureWarning)\n"
     ]
    },
    {
     "name": "stdout",
     "output_type": "stream",
     "text": [
      "Confusion Matrix of Polynomial Kernel\n",
      "[[140   7]\n",
      " [  2 126]]\n",
      "Classification Report of Polynomial Kernel\n",
      "              precision    recall  f1-score   support\n",
      "\n",
      "           0       0.99      0.95      0.97       147\n",
      "           1       0.95      0.98      0.97       128\n",
      "\n",
      "   micro avg       0.97      0.97      0.97       275\n",
      "   macro avg       0.97      0.97      0.97       275\n",
      "weighted avg       0.97      0.97      0.97       275\n",
      "\n",
      "Confusion Matrix of Gaussian Kernel\n",
      "[[147   0]\n",
      " [  0 128]]\n",
      "Classification Report of Gaussian Kernel\n",
      "              precision    recall  f1-score   support\n",
      "\n",
      "           0       1.00      1.00      1.00       147\n",
      "           1       1.00      1.00      1.00       128\n",
      "\n",
      "   micro avg       1.00      1.00      1.00       275\n",
      "   macro avg       1.00      1.00      1.00       275\n",
      "weighted avg       1.00      1.00      1.00       275\n",
      "\n",
      "Confusion Matrix of Sigmoid Kernel\n",
      "[[82 65]\n",
      " [61 67]]\n",
      "Classification Report of Sigmoid Kernel\n",
      "              precision    recall  f1-score   support\n",
      "\n",
      "           0       0.57      0.56      0.57       147\n",
      "           1       0.51      0.52      0.52       128\n",
      "\n",
      "   micro avg       0.54      0.54      0.54       275\n",
      "   macro avg       0.54      0.54      0.54       275\n",
      "weighted avg       0.54      0.54      0.54       275\n",
      "\n"
     ]
    },
    {
     "name": "stderr",
     "output_type": "stream",
     "text": [
      "/Users/archana/anaconda3/lib/python3.7/site-packages/sklearn/svm/base.py:196: FutureWarning: The default value of gamma will change from 'auto' to 'scale' in version 0.22 to account better for unscaled features. Set gamma explicitly to 'auto' or 'scale' to avoid this warning.\n",
      "  \"avoid this warning.\", FutureWarning)\n",
      "/Users/archana/anaconda3/lib/python3.7/site-packages/sklearn/svm/base.py:196: FutureWarning: The default value of gamma will change from 'auto' to 'scale' in version 0.22 to account better for unscaled features. Set gamma explicitly to 'auto' or 'scale' to avoid this warning.\n",
      "  \"avoid this warning.\", FutureWarning)\n"
     ]
    }
   ],
   "source": [
    "\n",
    "test()"
   ]
  },
  {
   "cell_type": "code",
   "execution_count": null,
   "metadata": {},
   "outputs": [],
   "source": []
  }
 ],
 "metadata": {
  "kernelspec": {
   "display_name": "Python 3",
   "language": "python",
   "name": "python3"
  },
  "language_info": {
   "codemirror_mode": {
    "name": "ipython",
    "version": 3
   },
   "file_extension": ".py",
   "mimetype": "text/x-python",
   "name": "python",
   "nbconvert_exporter": "python",
   "pygments_lexer": "ipython3",
   "version": "3.7.1"
  }
 },
 "nbformat": 4,
 "nbformat_minor": 2
}
